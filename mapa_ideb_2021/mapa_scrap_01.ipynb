{
 "cells": [
  {
   "cell_type": "markdown",
   "id": "17af6c3a",
   "metadata": {},
   "source": [
    "IMPORTANTE: Este é um aplicativo Streamlit.\n",
    " Para executá-lo, siga as instruções no arquivo environment.yml para criar o ambiente Conda.\n",
    " Este ambiente deve incluir R, o pacote geobr do R, rpy2, e o pacote Python 'geobr' (instalado via pip).\n",
    " Depois de ativar o ambiente, execute no terminal:\n",
    "   streamlit run nome_do_seu_arquivo.py"
   ]
  },
  {
   "cell_type": "code",
   "execution_count": 1,
   "id": "8374c761",
   "metadata": {},
   "outputs": [
    {
     "name": "stderr",
     "output_type": "stream",
     "text": [
      "2025-05-17 10:34:03.407 WARNING streamlit.runtime.scriptrunner_utils.script_run_context: Thread 'MainThread': missing ScriptRunContext! This warning can be ignored when running in bare mode.\n"
     ]
    }
   ],
   "source": [
    "\n",
    "import streamlit as st\n",
    "import pandas as pd\n",
    "import geopandas # Para manipulação de dados geoespaciais\n",
    "import folium # Para criar mapas interativos\n",
    "from streamlit_folium import st_folium # Para integrar Folium com Streamlit\n",
    "import numpy as np\n",
    "import geobr # Wrapper Python para a biblioteca geobr do R"
   ]
  },
  {
   "cell_type": "code",
   "execution_count": 2,
   "id": "989e98b1",
   "metadata": {},
   "outputs": [
    {
     "name": "stderr",
     "output_type": "stream",
     "text": [
      "2025-05-17 10:34:17.469 WARNING streamlit.runtime.scriptrunner_utils.script_run_context: Thread 'MainThread': missing ScriptRunContext! This warning can be ignored when running in bare mode.\n"
     ]
    }
   ],
   "source": [
    "\n",
    "# Configuração da página do Streamlit\n",
    "st.set_page_config(layout=\"wide\", page_title=\"Painel IDEB Brasil\")"
   ]
  },
  {
   "cell_type": "markdown",
   "id": "49d8438c",
   "metadata": {},
   "source": [
    "funcoes de substituicao"
   ]
  },
  {
   "cell_type": "code",
   "execution_count": 3,
   "id": "5c6da13e",
   "metadata": {},
   "outputs": [
    {
     "name": "stderr",
     "output_type": "stream",
     "text": [
      "2025-05-17 10:38:52.830 WARNING streamlit.runtime.caching.cache_data_api: No runtime found, using MemoryCacheStorageManager\n"
     ]
    }
   ],
   "source": [
    "\n",
    "@st.cache_data # Cache para otimizar o carregamento de dados\n",
    "def carregar_dados_ideb(caminho_arquivo):\n",
    "    \"\"\"\n",
    "    Carrega e limpa os dados do IDEB de um arquivo TXT delimitado por tabulação.\n",
    "    \"\"\"\n",
    "    try:\n",
    "        # Tenta ler com encoding utf-8, se falhar, tenta latin-1 (comum em arquivos brasileiros)\n",
    "        try:\n",
    "            df = pd.read_csv(caminho_arquivo, sep='\\t', encoding='utf-8', low_memory=False)\n",
    "        except UnicodeDecodeError:\n",
    "            df = pd.read_csv(caminho_arquivo, sep='\\t', encoding='latin-1', low_memory=False)\n",
    "\n",
    "        # Define as colunas que são realmente necessárias para o painel\n",
    "        colunas_necessarias = ['UF', 'cod_mun', 'nome_mun', 'ideb', 'nota_matem', 'nota_portugues']\n",
    "        \n",
    "        # Verifica se todas as colunas necessárias existem no arquivo carregado\n",
    "        for col in colunas_necessarias:\n",
    "            if col not in df.columns:\n",
    "                st.error(f\"Coluna essencial '{col}' não encontrada no arquivo '{caminho_arquivo}'. Verifique o conteúdo do arquivo.\")\n",
    "                return None\n",
    "        \n",
    "        df = df[colunas_necessarias].copy() # Usar .copy() para evitar SettingWithCopyWarning\n",
    "\n",
    "        # Converte colunas de notas para tipo numérico.\n",
    "        # Erros na conversão (ex: texto em campo de nota) se tornarão NaN (Not a Number).\n",
    "        cols_numericas = ['ideb', 'nota_matem', 'nota_portugues']\n",
    "        for col in cols_numericas:\n",
    "            df[col] = pd.to_numeric(df[col], errors='coerce')\n",
    "\n",
    "        # Limpeza dos dados:\n",
    "        # Remove linhas onde 'ideb' é NaN (após conversão) ou explicitamente 0.\n",
    "        df.dropna(subset=['ideb'], inplace=True)\n",
    "        df = df[df['ideb'] != 0].copy() # Usar .copy() após a filtragem\n",
    "        \n",
    "        # Converte 'cod_mun' para tipo numérico (inteiro Int64 para suportar NaN se houver)\n",
    "        # e remove linhas onde 'cod_mun' não pôde ser convertido.\n",
    "        df['cod_mun'] = pd.to_numeric(df['cod_mun'], errors='coerce').astype('Int64')\n",
    "        df.dropna(subset=['cod_mun'], inplace=True)\n",
    "\n",
    "        return df\n",
    "    except FileNotFoundError:\n",
    "        st.error(f\"Arquivo '{caminho_arquivo}' não encontrado. Certifique-se de que ele está no mesmo diretório que o script Python.\")\n",
    "        return None\n",
    "    except Exception as e:\n",
    "        st.error(f\"Ocorreu um erro ao carregar os dados do IDEB: {e}\")\n",
    "        return None"
   ]
  },
  {
   "cell_type": "code",
   "execution_count": 4,
   "id": "9deca9d4",
   "metadata": {},
   "outputs": [
    {
     "name": "stderr",
     "output_type": "stream",
     "text": [
      "2025-05-17 10:39:02.538 WARNING streamlit.runtime.caching.cache_data_api: No runtime found, using MemoryCacheStorageManager\n"
     ]
    }
   ],
   "source": [
    "\n",
    "@st.cache_data # Cache para otimizar o carregamento de dados geoespaciais\n",
    "def carregar_dados_geoespaciais_com_python_geobr():\n",
    "    \"\"\"\n",
    "    Carrega os dados geoespaciais de municípios e estados do Brasil\n",
    "    usando o pacote Python 'geobr', que é um wrapper para o pacote R 'geobr'.\n",
    "    Este pacote Python deve estar instalado via pip, conforme o environment.yml.\n",
    "    \"\"\"\n",
    "    try:\n",
    "        st.write(\"Carregando dados geoespaciais dos municípios via geobr (Python wrapper)...\")\n",
    "        # O pacote geobr (Python) retorna um GeoDataFrame diretamente\n",
    "        br_muni_gdf = geobr.read_municipality(year=2019, simplified=True)\n",
    "        \n",
    "        st.write(\"Carregando dados geoespaciais dos estados via geobr (Python wrapper)...\")\n",
    "        br_estados_gdf = geobr.read_state(year=2019, simplified=True)\n",
    "\n",
    "        # Verificações e conversões de tipo\n",
    "        # A coluna de código do município no geobr é 'code_muni'\n",
    "        if 'code_muni' in br_muni_gdf.columns:\n",
    "            br_muni_gdf['code_muni'] = br_muni_gdf['code_muni'].astype('Int64')\n",
    "        else:\n",
    "            st.error(\"Coluna 'code_muni' não encontrada nos dados dos municípios carregados pelo geobr.\")\n",
    "            return None, None # Retorna None se a coluna chave estiver faltando\n",
    "\n",
    "        if 'abbrev_state' not in br_estados_gdf.columns:\n",
    "             st.error(\"Coluna 'abbrev_state' não encontrada nos dados dos estados carregados pelo geobr.\")\n",
    "             return None, None # Retorna None se a coluna chave estiver faltando\n",
    "\n",
    "        st.write(\"Dados geoespaciais carregados com sucesso via geobr (Python wrapper).\")\n",
    "        return br_muni_gdf, br_estados_gdf\n",
    "        \n",
    "    except Exception as e:\n",
    "        st.error(f\"Erro ao carregar dados geoespaciais com o wrapper Python 'geobr': {e}\")\n",
    "        st.error(\"Verifique se o R, o pacote 'geobr' do R (r-geobr), rpy2, e o pacote Python 'geobr' (instalado via pip) estão corretamente configurados no ambiente Conda.\")\n",
    "        st.error(\"Consulte o arquivo environment.yml para as dependências necessárias.\")\n",
    "        return None, None"
   ]
  },
  {
   "cell_type": "code",
   "execution_count": 5,
   "id": "ded871ff",
   "metadata": {},
   "outputs": [],
   "source": [
    "def criar_mapa_folium(gdf_mapa, coluna_valor, legenda_titulo, estado_coords_centro):\n",
    "    \"\"\"\n",
    "    Cria um mapa Choropleth (mapa temático de áreas) com Folium.\n",
    "    \"\"\"\n",
    "    # Verifica se há dados válidos para plotar\n",
    "    if gdf_mapa is None or gdf_mapa.empty or coluna_valor not in gdf_mapa.columns:\n",
    "        st.warning(f\"Não há dados geográficos ou a coluna '{coluna_valor}' não existe para exibir no mapa de {legenda_titulo}.\")\n",
    "        return None\n",
    "\n",
    "    # Remove linhas com valores NaN na coluna de interesse para evitar problemas com a escala de cores\n",
    "    gdf_mapa_filtrado = gdf_mapa.dropna(subset=[coluna_valor])\n",
    "    if gdf_mapa_filtrado.empty:\n",
    "        st.warning(f\"Não há dados válidos para exibir no mapa de {legenda_titulo} após remover valores ausentes (NaNs).\")\n",
    "        return None\n",
    "\n",
    "    # Cria o mapa base, centralizado nas coordenadas do estado e com um nível de zoom inicial.\n",
    "    mapa = folium.Map(location=[estado_coords_centro.y, estado_coords_centro.x], zoom_start=6, tiles=\"CartoDB positron\")\n",
    "\n",
    "    min_val = gdf_mapa_filtrado[coluna_valor].min()\n",
    "    max_val = gdf_mapa_filtrado[coluna_valor].max()\n",
    "    \n",
    "    bins_mapa = None \n",
    "    cor_preenchimento = 'YlGnBu' # Paleta de cores padrão do Folium\n",
    "\n",
    "    if not (pd.isna(min_val) or pd.isna(max_val) or min_val == max_val):\n",
    "        try:\n",
    "            n_cores = 6 # Número de classes de cores desejadas\n",
    "            # Tenta criar 'bins' usando quantis para melhor distribuição visual.\n",
    "            bins_mapa_tentativa = list(gdf_mapa_filtrado[coluna_valor].quantile([i/n_cores for i in range(n_cores + 1)]))\n",
    "            bins_mapa_tentativa = sorted(list(set(bins_mapa_tentativa))) # Remove duplicados e garante a ordem\n",
    "            \n",
    "            if len(bins_mapa_tentativa) >= 2: # Se quantis resultarem em pelo menos 2 bins\n",
    "                bins_mapa = bins_mapa_tentativa\n",
    "            else: # Fallback para bins lineares se quantis não derem bons resultados\n",
    "                bins_mapa = np.linspace(min_val, max_val, n_cores + 1).tolist()\n",
    "            \n",
    "            if len(bins_mapa) < 2: # Último fallback para garantir que bins_mapa tenha pelo menos 2 elementos\n",
    "                 bins_mapa = [min_val, max_val] if min_val != max_val else [min_val, min_val + 0.1] # Adiciona pequena variação se min=max\n",
    "\n",
    "        except Exception: # Se qualquer cálculo de bins falhar\n",
    "            bins_mapa = [min_val, max_val] if min_val != max_val else [min_val, min_val + 0.1] # Fallback simples\n",
    "            st.info(f\"Não foi possível gerar uma escala de cores dinâmica para {legenda_titulo}. Usando escala simples.\")\n",
    "    else: # Caso não haja variação nos dados ou sejam NaN\n",
    "        st.info(f\"Variação de dados insuficiente ou valores ausentes para {legenda_titulo}. Usando cor padrão ou escala simples.\")\n",
    "        if not (pd.isna(min_val) or pd.isna(max_val)): # Se min_val e max_val são válidos\n",
    "            bins_mapa = [min_val, max_val] if min_val != max_val else [min_val, min_val + 0.1]\n",
    "\n",
    "\n",
    "    # Adiciona a camada Choropleth ao mapa\n",
    "    choropleth_layer = folium.Choropleth(\n",
    "        geo_data=gdf_mapa_filtrado.__geo_interface__, # Geometrias dos municípios\n",
    "        name='Choropleth',\n",
    "        data=gdf_mapa_filtrado, # DataFrame com os dados\n",
    "        columns=['code_muni', coluna_valor], # Colunas: ID do município e valor a ser plotado\n",
    "        key_on='feature.properties.code_muni', # Chave no GeoJSON para fazer o join com os dados\n",
    "        fill_color=cor_preenchimento,\n",
    "        fill_opacity=0.7,\n",
    "        line_opacity=0.2,\n",
    "        legend_name=legenda_titulo,\n",
    "        bins=bins_mapa, # Intervalos para a legenda e coloração\n",
    "        highlight=True # Destaca o município ao passar o mouse\n",
    "    ).add_to(mapa)\n",
    "\n",
    "    # Adiciona tooltips (informações que aparecem ao passar o mouse sobre um município)\n",
    "    folium.GeoJsonTooltip(\n",
    "        fields=['name_muni', coluna_valor], # Campos a serem exibidos no tooltip\n",
    "        aliases=['Município:', legenda_titulo + ':'], # Rótulos para os campos\n",
    "        localize=True, # Formata números de acordo com a localidade\n",
    "        sticky=False, # Tooltip segue o mouse ou fica fixo\n",
    "        labels=True,\n",
    "        style=\"\"\"\n",
    "            background-color: #F0EFEF;\n",
    "            border: 2px solid black;\n",
    "            border-radius: 3px;\n",
    "            box-shadow: 3px;\n",
    "        \"\"\",\n",
    "        max_width=800,\n",
    "    ).add_to(choropleth_layer.geojson)\n",
    "    \n",
    "    return mapa"
   ]
  },
  {
   "cell_type": "code",
   "execution_count": 6,
   "id": "8e0a7030",
   "metadata": {},
   "outputs": [
    {
     "name": "stderr",
     "output_type": "stream",
     "text": [
      "2025-05-17 10:40:13.117 WARNING streamlit.runtime.scriptrunner_utils.script_run_context: Thread 'MainThread': missing ScriptRunContext! This warning can be ignored when running in bare mode.\n",
      "2025-05-17 10:40:13.259 \n",
      "  \u001b[33m\u001b[1mWarning:\u001b[0m to view this Streamlit app on a browser, run it with the following\n",
      "  command:\n",
      "\n",
      "    streamlit run /home/est/miniconda3/envs/painel-ideb-py/lib/python3.9/site-packages/ipykernel_launcher.py [ARGUMENTS]\n",
      "2025-05-17 10:40:13.260 Thread 'MainThread': missing ScriptRunContext! This warning can be ignored when running in bare mode.\n"
     ]
    },
    {
     "data": {
      "text/plain": [
       "DeltaGenerator()"
      ]
     },
     "execution_count": 6,
     "metadata": {},
     "output_type": "execute_result"
    }
   ],
   "source": [
    "\n",
    "# --- Interface Principal do Streamlit ---\n",
    "st.title(\"Painel IDEB Brasil (Python com wrapper geobr)\")"
   ]
  },
  {
   "cell_type": "code",
   "execution_count": 7,
   "id": "e54f86b3",
   "metadata": {},
   "outputs": [
    {
     "name": "stderr",
     "output_type": "stream",
     "text": [
      "2025-05-17 10:40:28.882 No runtime found, using MemoryCacheStorageManager\n",
      "2025-05-17 10:40:28.886 Thread 'MainThread': missing ScriptRunContext! This warning can be ignored when running in bare mode.\n",
      "2025-05-17 10:40:28.887 Thread 'MainThread': missing ScriptRunContext! This warning can be ignored when running in bare mode.\n",
      "2025-05-17 10:40:28.888 Thread 'MainThread': missing ScriptRunContext! This warning can be ignored when running in bare mode.\n",
      "2025-05-17 10:40:29.179 Thread 'MainThread': missing ScriptRunContext! This warning can be ignored when running in bare mode.\n",
      "2025-05-17 10:40:29.180 Thread 'MainThread': missing ScriptRunContext! This warning can be ignored when running in bare mode.\n",
      "2025-05-17 10:40:29.182 No runtime found, using MemoryCacheStorageManager\n",
      "2025-05-17 10:40:29.183 Thread 'MainThread': missing ScriptRunContext! This warning can be ignored when running in bare mode.\n",
      "2025-05-17 10:40:29.184 Thread 'MainThread': missing ScriptRunContext! This warning can be ignored when running in bare mode.\n",
      "2025-05-17 10:40:29.185 Thread 'MainThread': missing ScriptRunContext! This warning can be ignored when running in bare mode.\n",
      "2025-05-17 10:40:29.186 Thread 'MainThread': missing ScriptRunContext! This warning can be ignored when running in bare mode.\n",
      "2025-05-17 10:40:29.187 Thread 'MainThread': missing ScriptRunContext! This warning can be ignored when running in bare mode.\n",
      "2025-05-17 10:40:29.686 Thread 'Thread-9': missing ScriptRunContext! This warning can be ignored when running in bare mode.\n",
      "2025-05-17 10:40:29.687 Thread 'Thread-9': missing ScriptRunContext! This warning can be ignored when running in bare mode.\n",
      "2025-05-17 10:40:41.680 Thread 'MainThread': missing ScriptRunContext! This warning can be ignored when running in bare mode.\n",
      "2025-05-17 10:40:41.681 Thread 'MainThread': missing ScriptRunContext! This warning can be ignored when running in bare mode.\n",
      "2025-05-17 10:40:49.045 Thread 'MainThread': missing ScriptRunContext! This warning can be ignored when running in bare mode.\n",
      "2025-05-17 10:40:49.046 Thread 'MainThread': missing ScriptRunContext! This warning can be ignored when running in bare mode.\n",
      "2025-05-17 10:40:49.245 Thread 'MainThread': missing ScriptRunContext! This warning can be ignored when running in bare mode.\n",
      "2025-05-17 10:40:49.246 Thread 'MainThread': missing ScriptRunContext! This warning can be ignored when running in bare mode.\n"
     ]
    }
   ],
   "source": [
    "\n",
    "# Carregamento dos dados (com cache para performance)\n",
    "df_ideb = carregar_dados_ideb(\"/home/est/Documentos/GitHub/mapa_ideb_max_python/mapa_ideb_2021/ideb_escola_2021.txt\") # Carrega dados do IDEB\n",
    "br_muni_gdf, br_estados_gdf = carregar_dados_geoespaciais_com_python_geobr() # Carrega dados geoespaciais"
   ]
  },
  {
   "cell_type": "code",
   "execution_count": 8,
   "id": "31b20149",
   "metadata": {},
   "outputs": [
    {
     "name": "stderr",
     "output_type": "stream",
     "text": [
      "2025-05-17 10:41:04.644 Thread 'MainThread': missing ScriptRunContext! This warning can be ignored when running in bare mode.\n",
      "2025-05-17 10:41:04.648 Thread 'MainThread': missing ScriptRunContext! This warning can be ignored when running in bare mode.\n",
      "2025-05-17 10:41:04.652 Thread 'MainThread': missing ScriptRunContext! This warning can be ignored when running in bare mode.\n",
      "2025-05-17 10:41:04.654 Thread 'MainThread': missing ScriptRunContext! This warning can be ignored when running in bare mode.\n",
      "2025-05-17 10:41:04.656 Thread 'MainThread': missing ScriptRunContext! This warning can be ignored when running in bare mode.\n",
      "2025-05-17 10:41:04.659 Thread 'MainThread': missing ScriptRunContext! This warning can be ignored when running in bare mode.\n",
      "2025-05-17 10:41:04.662 Session state does not function when running a script without `streamlit run`\n",
      "2025-05-17 10:41:04.664 Thread 'MainThread': missing ScriptRunContext! This warning can be ignored when running in bare mode.\n",
      "2025-05-17 10:41:04.667 Thread 'MainThread': missing ScriptRunContext! This warning can be ignored when running in bare mode.\n",
      "2025-05-17 10:41:04.771 Thread 'MainThread': missing ScriptRunContext! This warning can be ignored when running in bare mode.\n",
      "2025-05-17 10:41:04.773 Thread 'MainThread': missing ScriptRunContext! This warning can be ignored when running in bare mode.\n",
      "2025-05-17 10:41:06.109 Thread 'MainThread': missing ScriptRunContext! This warning can be ignored when running in bare mode.\n",
      "2025-05-17 10:41:06.213 Thread 'MainThread': missing ScriptRunContext! This warning can be ignored when running in bare mode.\n",
      "2025-05-17 10:41:06.215 Thread 'MainThread': missing ScriptRunContext! This warning can be ignored when running in bare mode.\n",
      "2025-05-17 10:41:06.217 Thread 'MainThread': missing ScriptRunContext! This warning can be ignored when running in bare mode.\n",
      "2025-05-17 10:41:06.218 Thread 'MainThread': missing ScriptRunContext! This warning can be ignored when running in bare mode.\n",
      "2025-05-17 10:41:06.219 Thread 'MainThread': missing ScriptRunContext! This warning can be ignored when running in bare mode.\n",
      "2025-05-17 10:41:06.220 Thread 'MainThread': missing ScriptRunContext! This warning can be ignored when running in bare mode.\n",
      "2025-05-17 10:41:06.220 Thread 'MainThread': missing ScriptRunContext! This warning can be ignored when running in bare mode.\n",
      "2025-05-17 10:41:06.221 Thread 'MainThread': missing ScriptRunContext! This warning can be ignored when running in bare mode.\n",
      "2025-05-17 10:41:06.221 Thread 'MainThread': missing ScriptRunContext! This warning can be ignored when running in bare mode.\n",
      "2025-05-17 10:41:06.222 Thread 'MainThread': missing ScriptRunContext! This warning can be ignored when running in bare mode.\n",
      "2025-05-17 10:41:07.435 Thread 'MainThread': missing ScriptRunContext! This warning can be ignored when running in bare mode.\n",
      "2025-05-17 10:41:07.436 Thread 'MainThread': missing ScriptRunContext! This warning can be ignored when running in bare mode.\n",
      "2025-05-17 10:41:07.436 Thread 'MainThread': missing ScriptRunContext! This warning can be ignored when running in bare mode.\n",
      "2025-05-17 10:41:07.438 Thread 'MainThread': missing ScriptRunContext! This warning can be ignored when running in bare mode.\n",
      "2025-05-17 10:41:07.439 Thread 'MainThread': missing ScriptRunContext! This warning can be ignored when running in bare mode.\n",
      "2025-05-17 10:41:07.439 Thread 'MainThread': missing ScriptRunContext! This warning can be ignored when running in bare mode.\n",
      "2025-05-17 10:41:08.615 Thread 'MainThread': missing ScriptRunContext! This warning can be ignored when running in bare mode.\n",
      "2025-05-17 10:41:08.616 Thread 'MainThread': missing ScriptRunContext! This warning can be ignored when running in bare mode.\n",
      "2025-05-17 10:41:08.618 Thread 'MainThread': missing ScriptRunContext! This warning can be ignored when running in bare mode.\n",
      "2025-05-17 10:41:08.620 Thread 'MainThread': missing ScriptRunContext! This warning can be ignored when running in bare mode.\n",
      "2025-05-17 10:41:08.621 Thread 'MainThread': missing ScriptRunContext! This warning can be ignored when running in bare mode.\n",
      "2025-05-17 10:41:08.622 Thread 'MainThread': missing ScriptRunContext! This warning can be ignored when running in bare mode.\n",
      "2025-05-17 10:41:09.781 Thread 'MainThread': missing ScriptRunContext! This warning can be ignored when running in bare mode.\n",
      "2025-05-17 10:41:09.782 Thread 'MainThread': missing ScriptRunContext! This warning can be ignored when running in bare mode.\n",
      "2025-05-17 10:41:09.784 Thread 'MainThread': missing ScriptRunContext! This warning can be ignored when running in bare mode.\n",
      "2025-05-17 10:41:09.786 Thread 'MainThread': missing ScriptRunContext! This warning can be ignored when running in bare mode.\n"
     ]
    }
   ],
   "source": [
    "\n",
    "# Prossegue apenas se todos os dados foram carregados com sucesso\n",
    "if df_ideb is not None and br_muni_gdf is not None and br_estados_gdf is not None:\n",
    "    \n",
    "    st.sidebar.header(\"Filtros\")\n",
    "    lista_estados_sigla = sorted(br_estados_gdf['abbrev_state'].unique())\n",
    "    default_index_estado = lista_estados_sigla.index('AM') if 'AM' in lista_estados_sigla else 0\n",
    "    estado_selecionado_sigla = st.sidebar.selectbox(\n",
    "        \"Selecione um Estado:\",\n",
    "        options=lista_estados_sigla,\n",
    "        index=default_index_estado\n",
    "    )\n",
    "\n",
    "    if estado_selecionado_sigla:\n",
    "        estado_geom_centroide = br_estados_gdf[br_estados_gdf['abbrev_state'] == estado_selecionado_sigla].geometry.iloc[0].centroid\n",
    "        muni_estado_gdf = br_muni_gdf[br_muni_gdf['abbrev_state'] == estado_selecionado_sigla].copy()\n",
    "        ideb_estado_df = df_ideb[df_ideb['UF'] == estado_selecionado_sigla].copy()\n",
    "\n",
    "        if muni_estado_gdf.empty:\n",
    "            st.warning(f\"Não foram encontrados municípios para o estado {estado_selecionado_sigla} nos dados geoespaciais.\")\n",
    "        elif ideb_estado_df.empty:\n",
    "            st.warning(f\"Não foram encontrados dados do IDEB para o estado {estado_selecionado_sigla}.\")\n",
    "        else:\n",
    "            media_mat_df = ideb_estado_df.groupby('cod_mun')['nota_matem'].mean().reset_index().rename(columns={'nota_matem': 'media_mat'})\n",
    "            media_por_df = ideb_estado_df.groupby('cod_mun')['nota_portugues'].mean().reset_index().rename(columns={'nota_portugues': 'media_por'})\n",
    "            media_ideb_df = ideb_estado_df.groupby('cod_mun')['ideb'].mean().reset_index().rename(columns={'ideb': 'media_ideb'})\n",
    "\n",
    "            # Assegura que code_muni (do GeoDataFrame) e cod_mun (do IDEB) são do mesmo tipo para o merge\n",
    "            # O geobr retorna code_muni como int64, o IDEB foi convertido para Int64.\n",
    "            # Para o merge, é mais seguro converter ambos para string temporariamente se houver dúvidas.\n",
    "            # No entanto, se ambos são Int64 (que suporta NA), deve funcionar.\n",
    "            # A função carregar_dados_geoespaciais_com_python_geobr já converte code_muni para Int64.\n",
    "            # A função carregar_dados_ideb já converte cod_mun para Int64.\n",
    "            \n",
    "            muni_notas_gdf = pd.merge(muni_estado_gdf, media_mat_df, left_on='code_muni', right_on='cod_mun', how='left')\n",
    "            muni_notas_gdf = pd.merge(muni_notas_gdf, media_por_df, on='cod_mun', how='left') # Assume cod_mun de media_mat_df\n",
    "            muni_notas_gdf = pd.merge(muni_notas_gdf, media_ideb_df, on='cod_mun', how='left')\n",
    "            \n",
    "            # Limpeza de colunas de merge duplicadas (ex: cod_mun_x, cod_mun_y)\n",
    "            # Mantém 'code_muni' do GeoDataFrame original e 'cod_mun' das médias se não houver conflito.\n",
    "            # Se 'cod_mun' foi usado como chave de junção e não é mais necessário, pode ser removido.\n",
    "            # O importante é que 'code_muni' esteja presente para o Choropleth.\n",
    "            if 'cod_mun_x' in muni_notas_gdf.columns: # Se o merge criou sufixos\n",
    "                muni_notas_gdf.drop(columns=[col for col in muni_notas_gdf.columns if '_y' in col], inplace=True, errors='ignore')\n",
    "                muni_notas_gdf.rename(columns={col: col.replace('_x', '') for col in muni_notas_gdf.columns if '_x' in col}, inplace=True, errors='ignore')\n",
    "\n",
    "\n",
    "            st.subheader(f\"Notas Médias por Município - {estado_selecionado_sigla}\")\n",
    "            tabela_df_display = muni_notas_gdf[['name_muni', 'media_mat', 'media_por', 'media_ideb']].copy()\n",
    "            tabela_df_display.rename(columns={\n",
    "                'name_muni': 'Município', 'media_mat': 'Profic. Mat.',\n",
    "                'media_por': 'Profic. Port.', 'media_ideb': 'IDEB (Média)'\n",
    "            }, inplace=True)\n",
    "            tabela_df_display.dropna(subset=['Profic. Mat.', 'Profic. Port.', 'IDEB (Média)'], how='all', inplace=True)\n",
    "            st.dataframe(tabela_df_display.style.format({\n",
    "                'Profic. Mat.': '{:.2f}', 'Profic. Port.': '{:.2f}', 'IDEB (Média)': '{:.2f}'\n",
    "            }), height=400, use_container_width=True)\n",
    "\n",
    "            st.subheader(f\"Mapas de Distribuição das Notas - {estado_selecionado_sigla}\")\n",
    "            col_mapa1, col_mapa2, col_mapa3 = st.columns(3)\n",
    "\n",
    "            with col_mapa1:\n",
    "                st.markdown(\"##### Média de Matemática\")\n",
    "                mapa_mat = criar_mapa_folium(muni_notas_gdf, 'media_mat', 'Média Mat.', estado_geom_centroide)\n",
    "                if mapa_mat: st_folium(mapa_mat, width=450, height=450)\n",
    "                else: st.info(\"Mapa de Matemática não disponível (sem dados válidos).\")\n",
    "            with col_mapa2:\n",
    "                st.markdown(\"##### Média de Português\")\n",
    "                mapa_por = criar_mapa_folium(muni_notas_gdf, 'media_por', 'Média Port.', estado_geom_centroide)\n",
    "                if mapa_por: st_folium(mapa_por, width=450, height=450)\n",
    "                else: st.info(\"Mapa de Português não disponível (sem dados válidos).\")\n",
    "            with col_mapa3:\n",
    "                st.markdown(\"##### Média do IDEB\")\n",
    "                mapa_ideb_geral = criar_mapa_folium(muni_notas_gdf, 'media_ideb', 'IDEB (Média)', estado_geom_centroide)\n",
    "                if mapa_ideb_geral: st_folium(mapa_ideb_geral, width=450, height=450)\n",
    "                else: st.info(\"Mapa do IDEB não disponível (sem dados válidos).\")\n",
    "else:\n",
    "    st.error(\"Não foi possível carregar os dados necessários para exibir o painel. Verifique os arquivos de dados e as mensagens de erro acima.\")\n",
    "\n"
   ]
  }
 ],
 "metadata": {
  "kernelspec": {
   "display_name": "painel-ideb-py",
   "language": "python",
   "name": "python3"
  },
  "language_info": {
   "codemirror_mode": {
    "name": "ipython",
    "version": 3
   },
   "file_extension": ".py",
   "mimetype": "text/x-python",
   "name": "python",
   "nbconvert_exporter": "python",
   "pygments_lexer": "ipython3",
   "version": "3.9.22"
  }
 },
 "nbformat": 4,
 "nbformat_minor": 5
}
