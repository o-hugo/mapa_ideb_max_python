{
 "cells": [
  {
   "cell_type": "code",
   "execution_count": 1,
   "id": "6fbbc464",
   "metadata": {},
   "outputs": [],
   "source": [
    "# Script para rodar localmente UMA VEZ para baixar os dados geoespaciais.\n",
    "# Certifique-se de que seu ambiente Conda com geobr (Python wrapper), R, r-geobr, etc., está ativo.\n",
    "\n",
    "import geobr # O wrapper Python para a biblioteca geobr do R\n",
    "import geopandas\n",
    "import os"
   ]
  },
  {
   "cell_type": "code",
   "execution_count": 3,
   "id": "2901a41c",
   "metadata": {},
   "outputs": [
    {
     "name": "stdout",
     "output_type": "stream",
     "text": [
      "Baixando dados dos municípios para 2020...\n",
      "Dados dos municípios salvos em: dados_geoespaciais/municipios_br_2020.geojson\n",
      "\n",
      "Baixando dados dos estados para 2020...\n",
      "Dados dos estados salvos em: dados_geoespaciais/estados_br_2020.geojson\n",
      "\n",
      "Processo concluído!\n",
      "Certifique-se de adicionar a pasta 'dados_geoespaciais' com os arquivos .geojson ao seu repositório GitHub.\n",
      "Lembre-se também de atualizar os nomes dos arquivos no seu script principal do painel para refletir o ano de 2020, se necessário.\n"
     ]
    }
   ],
   "source": [
    "\n",
    "def baixar_e_salvar_dados_geo():\n",
    "    \"\"\"\n",
    "    Baixa os dados de municípios e estados do Brasil para o ano de 2021\n",
    "    e salva como arquivos GeoJSON.\n",
    "    \"\"\"\n",
    "    ano = 2020 # ATUALIZADO PARA 2020\n",
    "    pasta_dados_geo = \"dados_geoespaciais\" # Nome da pasta para salvar os arquivos\n",
    "\n",
    "    # Cria a pasta se não existir\n",
    "    if not os.path.exists(pasta_dados_geo):\n",
    "        os.makedirs(pasta_dados_geo)\n",
    "        print(f\"Pasta '{pasta_dados_geo}' criada.\")\n",
    "\n",
    "    try:\n",
    "        print(f\"Baixando dados dos municípios para {ano}...\")\n",
    "        municipios_gdf = geobr.read_municipality(year=ano, simplified=True)\n",
    "        path_municipios = os.path.join(pasta_dados_geo, f\"municipios_br_{ano}.geojson\")\n",
    "        municipios_gdf.to_file(path_municipios, driver=\"GeoJSON\")\n",
    "        print(f\"Dados dos municípios salvos em: {path_municipios}\")\n",
    "\n",
    "        print(f\"\\nBaixando dados dos estados para {ano}...\")\n",
    "        estados_gdf = geobr.read_state(year=ano, simplified=True)\n",
    "        path_estados = os.path.join(pasta_dados_geo, f\"estados_br_{ano}.geojson\")\n",
    "        estados_gdf.to_file(path_estados, driver=\"GeoJSON\")\n",
    "        print(f\"Dados dos estados salvos em: {path_estados}\")\n",
    "\n",
    "        print(\"\\nProcesso concluído!\")\n",
    "        print(f\"Certifique-se de adicionar a pasta '{pasta_dados_geo}' com os arquivos .geojson ao seu repositório GitHub.\")\n",
    "        print(f\"Lembre-se também de atualizar os nomes dos arquivos no seu script principal do painel para refletir o ano de {ano}, se necessário.\")\n",
    "\n",
    "    except Exception as e:\n",
    "        print(f\"Ocorreu um erro ao baixar ou salvar os dados geoespaciais: {e}\")\n",
    "        print(\"Verifique se o ambiente com geobr (Python), R e r-geobr está configurado e ativo.\")\n",
    "        print(f\"Verifique também se dados para o ano {ano} estão disponíveis na API do geobr.\")\n",
    "\n",
    "\n",
    "if __name__ == \"__main__\":\n",
    "    baixar_e_salvar_dados_geo()"
   ]
  }
 ],
 "metadata": {
  "kernelspec": {
   "display_name": "painel-ideb-py",
   "language": "python",
   "name": "python3"
  },
  "language_info": {
   "codemirror_mode": {
    "name": "ipython",
    "version": 3
   },
   "file_extension": ".py",
   "mimetype": "text/x-python",
   "name": "python",
   "nbconvert_exporter": "python",
   "pygments_lexer": "ipython3",
   "version": "3.9.22"
  }
 },
 "nbformat": 4,
 "nbformat_minor": 5
}
